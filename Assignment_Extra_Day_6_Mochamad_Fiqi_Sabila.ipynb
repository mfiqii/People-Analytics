{
  "nbformat": 4,
  "nbformat_minor": 0,
  "metadata": {
    "colab": {
      "provenance": []
    },
    "kernelspec": {
      "name": "python3",
      "display_name": "Python 3"
    },
    "language_info": {
      "name": "python"
    }
  },
  "cells": [
    {
      "cell_type": "markdown",
      "source": [
        "# 1. Load & Preview"
      ],
      "metadata": {
        "id": "3-tzBkK4kImf"
      }
    },
    {
      "cell_type": "code",
      "execution_count": null,
      "metadata": {
        "id": "PYGPFLLEj-qX"
      },
      "outputs": [],
      "source": [
        "import pandas as pd\n",
        "import numpy as np\n",
        "import matplotlib.pyplot as plt\n",
        "import seaborn as sns\n",
        "\n",
        "pd.set_option('display.max_columns', None)"
      ]
    },
    {
      "cell_type": "code",
      "source": [
        "df = pd.read_csv('/content/assignment_employee_survey.csv')"
      ],
      "metadata": {
        "id": "z_nRFNFakAkr"
      },
      "execution_count": null,
      "outputs": []
    },
    {
      "cell_type": "code",
      "source": [
        "df.shape"
      ],
      "metadata": {
        "colab": {
          "base_uri": "https://localhost:8080/"
        },
        "id": "rbkq1HiYkAiJ",
        "outputId": "8d3257d1-49db-4dc2-a32c-0512e9c0a9dc"
      },
      "execution_count": null,
      "outputs": [
        {
          "output_type": "execute_result",
          "data": {
            "text/plain": [
              "(2766, 23)"
            ]
          },
          "metadata": {},
          "execution_count": 9
        }
      ]
    },
    {
      "cell_type": "code",
      "source": [
        "df.info()"
      ],
      "metadata": {
        "colab": {
          "base_uri": "https://localhost:8080/"
        },
        "id": "RaHuq7iXkAfL",
        "outputId": "ba06f6b6-6d08-4766-b8df-4fb5dacc78bf"
      },
      "execution_count": null,
      "outputs": [
        {
          "output_type": "stream",
          "name": "stdout",
          "text": [
            "<class 'pandas.core.frame.DataFrame'>\n",
            "RangeIndex: 2766 entries, 0 to 2765\n",
            "Data columns (total 23 columns):\n",
            " #   Column                   Non-Null Count  Dtype  \n",
            "---  ------                   --------------  -----  \n",
            " 0   emp_id                   2766 non-null   int64  \n",
            " 1   gender                   2766 non-null   object \n",
            " 2   age                      2766 non-null   int64  \n",
            " 3   marital_status           2766 non-null   object \n",
            " 4   job_level                2766 non-null   object \n",
            " 5   experience               2766 non-null   int64  \n",
            " 6   dept                     2766 non-null   object \n",
            " 7   emp_type                 2766 non-null   object \n",
            " 8   wlb                      2766 non-null   int64  \n",
            " 9   work_env                 2766 non-null   int64  \n",
            " 10  physical_activity_hours  2766 non-null   float64\n",
            " 11  workload                 2766 non-null   int64  \n",
            " 12  stress                   2766 non-null   int64  \n",
            " 13  sleep_hours              2766 non-null   float64\n",
            " 14  commute_mode             2766 non-null   object \n",
            " 15  commute_distance         2766 non-null   int64  \n",
            " 16  num_companies            2766 non-null   int64  \n",
            " 17  team_size                2766 non-null   int64  \n",
            " 18  num_reports              2766 non-null   int64  \n",
            " 19  edu_level                2766 non-null   object \n",
            " 20  have_ot                  2766 non-null   bool   \n",
            " 21  training_hours_per_year  2766 non-null   float64\n",
            " 22  job_satisfaction         2766 non-null   int64  \n",
            "dtypes: bool(1), float64(3), int64(12), object(7)\n",
            "memory usage: 478.2+ KB\n"
          ]
        }
      ]
    },
    {
      "cell_type": "code",
      "source": [
        "df.sample(n=10, random_state=42)"
      ],
      "metadata": {
        "colab": {
          "base_uri": "https://localhost:8080/",
          "height": 363
        },
        "id": "0QBn9yfvkAcb",
        "outputId": "0eb320a1-9f64-46a9-f84f-611e9cd4e2bb"
      },
      "execution_count": null,
      "outputs": [
        {
          "output_type": "execute_result",
          "data": {
            "text/plain": [
              "      emp_id  gender  age marital_status job_level  experience        dept  \\\n",
              "1378    2635  Female   23         Single    Junior           1          IT   \n",
              "839      957    Male   47        Married       Mid          25          IT   \n",
              "2163     518  Female   34        Married    Senior          12          HR   \n",
              "2618    1909  Female   47        Married      Lead          25     Finance   \n",
              "927     2625  Female   36        Married       Mid          14  Operations   \n",
              "450     1808  Female   27         Single    Junior           5       Legal   \n",
              "368     1532    Male   35         Single    Senior          13     Finance   \n",
              "1135    1102    Male   22         Single    Junior           0          IT   \n",
              "1756     355    Male   25         Single       Mid           3       Sales   \n",
              "296      468    Male   22         Single    Junior           0          IT   \n",
              "\n",
              "       emp_type  wlb  work_env  physical_activity_hours  workload  stress  \\\n",
              "1378  Full-Time    4         2                      2.5         1       2   \n",
              "839   Full-Time    4         2                      2.0         1       3   \n",
              "2163  Full-Time    2         3                      0.2         5       1   \n",
              "2618   Contract    4         3                      1.7         1       1   \n",
              "927   Part-Time    1         2                      2.0         4       1   \n",
              "450   Full-Time    5         5                      2.8         2       2   \n",
              "368   Full-Time    4         3                      3.3         1       1   \n",
              "1135  Full-Time    2         1                      0.6         3       1   \n",
              "1756  Full-Time    3         2                      1.6         2       4   \n",
              "296   Part-Time    4         3                      0.1         4       1   \n",
              "\n",
              "      sleep_hours      commute_mode  commute_distance  num_companies  \\\n",
              "1378          6.4              Bike                 7              0   \n",
              "839           7.0  Public Transport                26              8   \n",
              "2163          7.4               Car                 8              4   \n",
              "2618          7.4               Car                16              8   \n",
              "927           7.0              Bike                 3              4   \n",
              "450           6.7              Bike                 7              1   \n",
              "368           5.7  Public Transport                25              4   \n",
              "1135          6.3  Public Transport                 8              0   \n",
              "1756          7.7  Public Transport                17              1   \n",
              "296           9.3              Walk                 1              0   \n",
              "\n",
              "      team_size  num_reports    edu_level  have_ot  training_hours_per_year  \\\n",
              "1378          6            0  High School    False                     20.5   \n",
              "839          15            0     Bachelor     True                     42.5   \n",
              "2163         16            4       Master     True                     46.0   \n",
              "2618         25            2     Bachelor    False                     62.5   \n",
              "927          12            0     Bachelor    False                     37.0   \n",
              "450          10            0     Bachelor     True                     22.5   \n",
              "368          15            5     Bachelor    False                     46.5   \n",
              "1135          9            0     Bachelor     True                     20.0   \n",
              "1756         14            0       Master    False                     31.5   \n",
              "296          10            0     Bachelor     True                     20.0   \n",
              "\n",
              "      job_satisfaction  \n",
              "1378                 4  \n",
              "839                  3  \n",
              "2163                 3  \n",
              "2618                 5  \n",
              "927                  3  \n",
              "450                  4  \n",
              "368                  4  \n",
              "1135                 1  \n",
              "1756                 4  \n",
              "296                  4  "
            ],
            "text/html": [
              "\n",
              "  <div id=\"df-e0cef00e-4849-44a4-be2e-6d8ff1e713cb\" class=\"colab-df-container\">\n",
              "    <div>\n",
              "<style scoped>\n",
              "    .dataframe tbody tr th:only-of-type {\n",
              "        vertical-align: middle;\n",
              "    }\n",
              "\n",
              "    .dataframe tbody tr th {\n",
              "        vertical-align: top;\n",
              "    }\n",
              "\n",
              "    .dataframe thead th {\n",
              "        text-align: right;\n",
              "    }\n",
              "</style>\n",
              "<table border=\"1\" class=\"dataframe\">\n",
              "  <thead>\n",
              "    <tr style=\"text-align: right;\">\n",
              "      <th></th>\n",
              "      <th>emp_id</th>\n",
              "      <th>gender</th>\n",
              "      <th>age</th>\n",
              "      <th>marital_status</th>\n",
              "      <th>job_level</th>\n",
              "      <th>experience</th>\n",
              "      <th>dept</th>\n",
              "      <th>emp_type</th>\n",
              "      <th>wlb</th>\n",
              "      <th>work_env</th>\n",
              "      <th>physical_activity_hours</th>\n",
              "      <th>workload</th>\n",
              "      <th>stress</th>\n",
              "      <th>sleep_hours</th>\n",
              "      <th>commute_mode</th>\n",
              "      <th>commute_distance</th>\n",
              "      <th>num_companies</th>\n",
              "      <th>team_size</th>\n",
              "      <th>num_reports</th>\n",
              "      <th>edu_level</th>\n",
              "      <th>have_ot</th>\n",
              "      <th>training_hours_per_year</th>\n",
              "      <th>job_satisfaction</th>\n",
              "    </tr>\n",
              "  </thead>\n",
              "  <tbody>\n",
              "    <tr>\n",
              "      <th>1378</th>\n",
              "      <td>2635</td>\n",
              "      <td>Female</td>\n",
              "      <td>23</td>\n",
              "      <td>Single</td>\n",
              "      <td>Junior</td>\n",
              "      <td>1</td>\n",
              "      <td>IT</td>\n",
              "      <td>Full-Time</td>\n",
              "      <td>4</td>\n",
              "      <td>2</td>\n",
              "      <td>2.5</td>\n",
              "      <td>1</td>\n",
              "      <td>2</td>\n",
              "      <td>6.4</td>\n",
              "      <td>Bike</td>\n",
              "      <td>7</td>\n",
              "      <td>0</td>\n",
              "      <td>6</td>\n",
              "      <td>0</td>\n",
              "      <td>High School</td>\n",
              "      <td>False</td>\n",
              "      <td>20.5</td>\n",
              "      <td>4</td>\n",
              "    </tr>\n",
              "    <tr>\n",
              "      <th>839</th>\n",
              "      <td>957</td>\n",
              "      <td>Male</td>\n",
              "      <td>47</td>\n",
              "      <td>Married</td>\n",
              "      <td>Mid</td>\n",
              "      <td>25</td>\n",
              "      <td>IT</td>\n",
              "      <td>Full-Time</td>\n",
              "      <td>4</td>\n",
              "      <td>2</td>\n",
              "      <td>2.0</td>\n",
              "      <td>1</td>\n",
              "      <td>3</td>\n",
              "      <td>7.0</td>\n",
              "      <td>Public Transport</td>\n",
              "      <td>26</td>\n",
              "      <td>8</td>\n",
              "      <td>15</td>\n",
              "      <td>0</td>\n",
              "      <td>Bachelor</td>\n",
              "      <td>True</td>\n",
              "      <td>42.5</td>\n",
              "      <td>3</td>\n",
              "    </tr>\n",
              "    <tr>\n",
              "      <th>2163</th>\n",
              "      <td>518</td>\n",
              "      <td>Female</td>\n",
              "      <td>34</td>\n",
              "      <td>Married</td>\n",
              "      <td>Senior</td>\n",
              "      <td>12</td>\n",
              "      <td>HR</td>\n",
              "      <td>Full-Time</td>\n",
              "      <td>2</td>\n",
              "      <td>3</td>\n",
              "      <td>0.2</td>\n",
              "      <td>5</td>\n",
              "      <td>1</td>\n",
              "      <td>7.4</td>\n",
              "      <td>Car</td>\n",
              "      <td>8</td>\n",
              "      <td>4</td>\n",
              "      <td>16</td>\n",
              "      <td>4</td>\n",
              "      <td>Master</td>\n",
              "      <td>True</td>\n",
              "      <td>46.0</td>\n",
              "      <td>3</td>\n",
              "    </tr>\n",
              "    <tr>\n",
              "      <th>2618</th>\n",
              "      <td>1909</td>\n",
              "      <td>Female</td>\n",
              "      <td>47</td>\n",
              "      <td>Married</td>\n",
              "      <td>Lead</td>\n",
              "      <td>25</td>\n",
              "      <td>Finance</td>\n",
              "      <td>Contract</td>\n",
              "      <td>4</td>\n",
              "      <td>3</td>\n",
              "      <td>1.7</td>\n",
              "      <td>1</td>\n",
              "      <td>1</td>\n",
              "      <td>7.4</td>\n",
              "      <td>Car</td>\n",
              "      <td>16</td>\n",
              "      <td>8</td>\n",
              "      <td>25</td>\n",
              "      <td>2</td>\n",
              "      <td>Bachelor</td>\n",
              "      <td>False</td>\n",
              "      <td>62.5</td>\n",
              "      <td>5</td>\n",
              "    </tr>\n",
              "    <tr>\n",
              "      <th>927</th>\n",
              "      <td>2625</td>\n",
              "      <td>Female</td>\n",
              "      <td>36</td>\n",
              "      <td>Married</td>\n",
              "      <td>Mid</td>\n",
              "      <td>14</td>\n",
              "      <td>Operations</td>\n",
              "      <td>Part-Time</td>\n",
              "      <td>1</td>\n",
              "      <td>2</td>\n",
              "      <td>2.0</td>\n",
              "      <td>4</td>\n",
              "      <td>1</td>\n",
              "      <td>7.0</td>\n",
              "      <td>Bike</td>\n",
              "      <td>3</td>\n",
              "      <td>4</td>\n",
              "      <td>12</td>\n",
              "      <td>0</td>\n",
              "      <td>Bachelor</td>\n",
              "      <td>False</td>\n",
              "      <td>37.0</td>\n",
              "      <td>3</td>\n",
              "    </tr>\n",
              "    <tr>\n",
              "      <th>450</th>\n",
              "      <td>1808</td>\n",
              "      <td>Female</td>\n",
              "      <td>27</td>\n",
              "      <td>Single</td>\n",
              "      <td>Junior</td>\n",
              "      <td>5</td>\n",
              "      <td>Legal</td>\n",
              "      <td>Full-Time</td>\n",
              "      <td>5</td>\n",
              "      <td>5</td>\n",
              "      <td>2.8</td>\n",
              "      <td>2</td>\n",
              "      <td>2</td>\n",
              "      <td>6.7</td>\n",
              "      <td>Bike</td>\n",
              "      <td>7</td>\n",
              "      <td>1</td>\n",
              "      <td>10</td>\n",
              "      <td>0</td>\n",
              "      <td>Bachelor</td>\n",
              "      <td>True</td>\n",
              "      <td>22.5</td>\n",
              "      <td>4</td>\n",
              "    </tr>\n",
              "    <tr>\n",
              "      <th>368</th>\n",
              "      <td>1532</td>\n",
              "      <td>Male</td>\n",
              "      <td>35</td>\n",
              "      <td>Single</td>\n",
              "      <td>Senior</td>\n",
              "      <td>13</td>\n",
              "      <td>Finance</td>\n",
              "      <td>Full-Time</td>\n",
              "      <td>4</td>\n",
              "      <td>3</td>\n",
              "      <td>3.3</td>\n",
              "      <td>1</td>\n",
              "      <td>1</td>\n",
              "      <td>5.7</td>\n",
              "      <td>Public Transport</td>\n",
              "      <td>25</td>\n",
              "      <td>4</td>\n",
              "      <td>15</td>\n",
              "      <td>5</td>\n",
              "      <td>Bachelor</td>\n",
              "      <td>False</td>\n",
              "      <td>46.5</td>\n",
              "      <td>4</td>\n",
              "    </tr>\n",
              "    <tr>\n",
              "      <th>1135</th>\n",
              "      <td>1102</td>\n",
              "      <td>Male</td>\n",
              "      <td>22</td>\n",
              "      <td>Single</td>\n",
              "      <td>Junior</td>\n",
              "      <td>0</td>\n",
              "      <td>IT</td>\n",
              "      <td>Full-Time</td>\n",
              "      <td>2</td>\n",
              "      <td>1</td>\n",
              "      <td>0.6</td>\n",
              "      <td>3</td>\n",
              "      <td>1</td>\n",
              "      <td>6.3</td>\n",
              "      <td>Public Transport</td>\n",
              "      <td>8</td>\n",
              "      <td>0</td>\n",
              "      <td>9</td>\n",
              "      <td>0</td>\n",
              "      <td>Bachelor</td>\n",
              "      <td>True</td>\n",
              "      <td>20.0</td>\n",
              "      <td>1</td>\n",
              "    </tr>\n",
              "    <tr>\n",
              "      <th>1756</th>\n",
              "      <td>355</td>\n",
              "      <td>Male</td>\n",
              "      <td>25</td>\n",
              "      <td>Single</td>\n",
              "      <td>Mid</td>\n",
              "      <td>3</td>\n",
              "      <td>Sales</td>\n",
              "      <td>Full-Time</td>\n",
              "      <td>3</td>\n",
              "      <td>2</td>\n",
              "      <td>1.6</td>\n",
              "      <td>2</td>\n",
              "      <td>4</td>\n",
              "      <td>7.7</td>\n",
              "      <td>Public Transport</td>\n",
              "      <td>17</td>\n",
              "      <td>1</td>\n",
              "      <td>14</td>\n",
              "      <td>0</td>\n",
              "      <td>Master</td>\n",
              "      <td>False</td>\n",
              "      <td>31.5</td>\n",
              "      <td>4</td>\n",
              "    </tr>\n",
              "    <tr>\n",
              "      <th>296</th>\n",
              "      <td>468</td>\n",
              "      <td>Male</td>\n",
              "      <td>22</td>\n",
              "      <td>Single</td>\n",
              "      <td>Junior</td>\n",
              "      <td>0</td>\n",
              "      <td>IT</td>\n",
              "      <td>Part-Time</td>\n",
              "      <td>4</td>\n",
              "      <td>3</td>\n",
              "      <td>0.1</td>\n",
              "      <td>4</td>\n",
              "      <td>1</td>\n",
              "      <td>9.3</td>\n",
              "      <td>Walk</td>\n",
              "      <td>1</td>\n",
              "      <td>0</td>\n",
              "      <td>10</td>\n",
              "      <td>0</td>\n",
              "      <td>Bachelor</td>\n",
              "      <td>True</td>\n",
              "      <td>20.0</td>\n",
              "      <td>4</td>\n",
              "    </tr>\n",
              "  </tbody>\n",
              "</table>\n",
              "</div>\n",
              "    <div class=\"colab-df-buttons\">\n",
              "\n",
              "  <div class=\"colab-df-container\">\n",
              "    <button class=\"colab-df-convert\" onclick=\"convertToInteractive('df-e0cef00e-4849-44a4-be2e-6d8ff1e713cb')\"\n",
              "            title=\"Convert this dataframe to an interactive table.\"\n",
              "            style=\"display:none;\">\n",
              "\n",
              "  <svg xmlns=\"http://www.w3.org/2000/svg\" height=\"24px\" viewBox=\"0 -960 960 960\">\n",
              "    <path d=\"M120-120v-720h720v720H120Zm60-500h600v-160H180v160Zm220 220h160v-160H400v160Zm0 220h160v-160H400v160ZM180-400h160v-160H180v160Zm440 0h160v-160H620v160ZM180-180h160v-160H180v160Zm440 0h160v-160H620v160Z\"/>\n",
              "  </svg>\n",
              "    </button>\n",
              "\n",
              "  <style>\n",
              "    .colab-df-container {\n",
              "      display:flex;\n",
              "      gap: 12px;\n",
              "    }\n",
              "\n",
              "    .colab-df-convert {\n",
              "      background-color: #E8F0FE;\n",
              "      border: none;\n",
              "      border-radius: 50%;\n",
              "      cursor: pointer;\n",
              "      display: none;\n",
              "      fill: #1967D2;\n",
              "      height: 32px;\n",
              "      padding: 0 0 0 0;\n",
              "      width: 32px;\n",
              "    }\n",
              "\n",
              "    .colab-df-convert:hover {\n",
              "      background-color: #E2EBFA;\n",
              "      box-shadow: 0px 1px 2px rgba(60, 64, 67, 0.3), 0px 1px 3px 1px rgba(60, 64, 67, 0.15);\n",
              "      fill: #174EA6;\n",
              "    }\n",
              "\n",
              "    .colab-df-buttons div {\n",
              "      margin-bottom: 4px;\n",
              "    }\n",
              "\n",
              "    [theme=dark] .colab-df-convert {\n",
              "      background-color: #3B4455;\n",
              "      fill: #D2E3FC;\n",
              "    }\n",
              "\n",
              "    [theme=dark] .colab-df-convert:hover {\n",
              "      background-color: #434B5C;\n",
              "      box-shadow: 0px 1px 3px 1px rgba(0, 0, 0, 0.15);\n",
              "      filter: drop-shadow(0px 1px 2px rgba(0, 0, 0, 0.3));\n",
              "      fill: #FFFFFF;\n",
              "    }\n",
              "  </style>\n",
              "\n",
              "    <script>\n",
              "      const buttonEl =\n",
              "        document.querySelector('#df-e0cef00e-4849-44a4-be2e-6d8ff1e713cb button.colab-df-convert');\n",
              "      buttonEl.style.display =\n",
              "        google.colab.kernel.accessAllowed ? 'block' : 'none';\n",
              "\n",
              "      async function convertToInteractive(key) {\n",
              "        const element = document.querySelector('#df-e0cef00e-4849-44a4-be2e-6d8ff1e713cb');\n",
              "        const dataTable =\n",
              "          await google.colab.kernel.invokeFunction('convertToInteractive',\n",
              "                                                    [key], {});\n",
              "        if (!dataTable) return;\n",
              "\n",
              "        const docLinkHtml = 'Like what you see? Visit the ' +\n",
              "          '<a target=\"_blank\" href=https://colab.research.google.com/notebooks/data_table.ipynb>data table notebook</a>'\n",
              "          + ' to learn more about interactive tables.';\n",
              "        element.innerHTML = '';\n",
              "        dataTable['output_type'] = 'display_data';\n",
              "        await google.colab.output.renderOutput(dataTable, element);\n",
              "        const docLink = document.createElement('div');\n",
              "        docLink.innerHTML = docLinkHtml;\n",
              "        element.appendChild(docLink);\n",
              "      }\n",
              "    </script>\n",
              "  </div>\n",
              "\n",
              "\n",
              "    <div id=\"df-a9db7e07-33ff-45f1-be4f-b003a85940c6\">\n",
              "      <button class=\"colab-df-quickchart\" onclick=\"quickchart('df-a9db7e07-33ff-45f1-be4f-b003a85940c6')\"\n",
              "                title=\"Suggest charts\"\n",
              "                style=\"display:none;\">\n",
              "\n",
              "<svg xmlns=\"http://www.w3.org/2000/svg\" height=\"24px\"viewBox=\"0 0 24 24\"\n",
              "     width=\"24px\">\n",
              "    <g>\n",
              "        <path d=\"M19 3H5c-1.1 0-2 .9-2 2v14c0 1.1.9 2 2 2h14c1.1 0 2-.9 2-2V5c0-1.1-.9-2-2-2zM9 17H7v-7h2v7zm4 0h-2V7h2v10zm4 0h-2v-4h2v4z\"/>\n",
              "    </g>\n",
              "</svg>\n",
              "      </button>\n",
              "\n",
              "<style>\n",
              "  .colab-df-quickchart {\n",
              "      --bg-color: #E8F0FE;\n",
              "      --fill-color: #1967D2;\n",
              "      --hover-bg-color: #E2EBFA;\n",
              "      --hover-fill-color: #174EA6;\n",
              "      --disabled-fill-color: #AAA;\n",
              "      --disabled-bg-color: #DDD;\n",
              "  }\n",
              "\n",
              "  [theme=dark] .colab-df-quickchart {\n",
              "      --bg-color: #3B4455;\n",
              "      --fill-color: #D2E3FC;\n",
              "      --hover-bg-color: #434B5C;\n",
              "      --hover-fill-color: #FFFFFF;\n",
              "      --disabled-bg-color: #3B4455;\n",
              "      --disabled-fill-color: #666;\n",
              "  }\n",
              "\n",
              "  .colab-df-quickchart {\n",
              "    background-color: var(--bg-color);\n",
              "    border: none;\n",
              "    border-radius: 50%;\n",
              "    cursor: pointer;\n",
              "    display: none;\n",
              "    fill: var(--fill-color);\n",
              "    height: 32px;\n",
              "    padding: 0;\n",
              "    width: 32px;\n",
              "  }\n",
              "\n",
              "  .colab-df-quickchart:hover {\n",
              "    background-color: var(--hover-bg-color);\n",
              "    box-shadow: 0 1px 2px rgba(60, 64, 67, 0.3), 0 1px 3px 1px rgba(60, 64, 67, 0.15);\n",
              "    fill: var(--button-hover-fill-color);\n",
              "  }\n",
              "\n",
              "  .colab-df-quickchart-complete:disabled,\n",
              "  .colab-df-quickchart-complete:disabled:hover {\n",
              "    background-color: var(--disabled-bg-color);\n",
              "    fill: var(--disabled-fill-color);\n",
              "    box-shadow: none;\n",
              "  }\n",
              "\n",
              "  .colab-df-spinner {\n",
              "    border: 2px solid var(--fill-color);\n",
              "    border-color: transparent;\n",
              "    border-bottom-color: var(--fill-color);\n",
              "    animation:\n",
              "      spin 1s steps(1) infinite;\n",
              "  }\n",
              "\n",
              "  @keyframes spin {\n",
              "    0% {\n",
              "      border-color: transparent;\n",
              "      border-bottom-color: var(--fill-color);\n",
              "      border-left-color: var(--fill-color);\n",
              "    }\n",
              "    20% {\n",
              "      border-color: transparent;\n",
              "      border-left-color: var(--fill-color);\n",
              "      border-top-color: var(--fill-color);\n",
              "    }\n",
              "    30% {\n",
              "      border-color: transparent;\n",
              "      border-left-color: var(--fill-color);\n",
              "      border-top-color: var(--fill-color);\n",
              "      border-right-color: var(--fill-color);\n",
              "    }\n",
              "    40% {\n",
              "      border-color: transparent;\n",
              "      border-right-color: var(--fill-color);\n",
              "      border-top-color: var(--fill-color);\n",
              "    }\n",
              "    60% {\n",
              "      border-color: transparent;\n",
              "      border-right-color: var(--fill-color);\n",
              "    }\n",
              "    80% {\n",
              "      border-color: transparent;\n",
              "      border-right-color: var(--fill-color);\n",
              "      border-bottom-color: var(--fill-color);\n",
              "    }\n",
              "    90% {\n",
              "      border-color: transparent;\n",
              "      border-bottom-color: var(--fill-color);\n",
              "    }\n",
              "  }\n",
              "</style>\n",
              "\n",
              "      <script>\n",
              "        async function quickchart(key) {\n",
              "          const quickchartButtonEl =\n",
              "            document.querySelector('#' + key + ' button');\n",
              "          quickchartButtonEl.disabled = true;  // To prevent multiple clicks.\n",
              "          quickchartButtonEl.classList.add('colab-df-spinner');\n",
              "          try {\n",
              "            const charts = await google.colab.kernel.invokeFunction(\n",
              "                'suggestCharts', [key], {});\n",
              "          } catch (error) {\n",
              "            console.error('Error during call to suggestCharts:', error);\n",
              "          }\n",
              "          quickchartButtonEl.classList.remove('colab-df-spinner');\n",
              "          quickchartButtonEl.classList.add('colab-df-quickchart-complete');\n",
              "        }\n",
              "        (() => {\n",
              "          let quickchartButtonEl =\n",
              "            document.querySelector('#df-a9db7e07-33ff-45f1-be4f-b003a85940c6 button');\n",
              "          quickchartButtonEl.style.display =\n",
              "            google.colab.kernel.accessAllowed ? 'block' : 'none';\n",
              "        })();\n",
              "      </script>\n",
              "    </div>\n",
              "\n",
              "    </div>\n",
              "  </div>\n"
            ],
            "application/vnd.google.colaboratory.intrinsic+json": {
              "type": "dataframe"
            }
          },
          "metadata": {},
          "execution_count": 11
        }
      ]
    },
    {
      "cell_type": "markdown",
      "source": [
        "# 2. Data Pre-Processing"
      ],
      "metadata": {
        "id": "p9FZvAgjk1Xu"
      }
    },
    {
      "cell_type": "code",
      "source": [
        "#null\n",
        "df.isnull().sum()"
      ],
      "metadata": {
        "colab": {
          "base_uri": "https://localhost:8080/",
          "height": 805
        },
        "id": "MKmaaTK5kAZe",
        "outputId": "8886613c-a195-417b-a2df-bf2957f69765"
      },
      "execution_count": null,
      "outputs": [
        {
          "output_type": "execute_result",
          "data": {
            "text/plain": [
              "emp_id                     0\n",
              "gender                     0\n",
              "age                        0\n",
              "marital_status             0\n",
              "job_level                  0\n",
              "experience                 0\n",
              "dept                       0\n",
              "emp_type                   0\n",
              "wlb                        0\n",
              "work_env                   0\n",
              "physical_activity_hours    0\n",
              "workload                   0\n",
              "stress                     0\n",
              "sleep_hours                0\n",
              "commute_mode               0\n",
              "commute_distance           0\n",
              "num_companies              0\n",
              "team_size                  0\n",
              "num_reports                0\n",
              "edu_level                  0\n",
              "have_ot                    0\n",
              "training_hours_per_year    0\n",
              "job_satisfaction           0\n",
              "dtype: int64"
            ],
            "text/html": [
              "<div>\n",
              "<style scoped>\n",
              "    .dataframe tbody tr th:only-of-type {\n",
              "        vertical-align: middle;\n",
              "    }\n",
              "\n",
              "    .dataframe tbody tr th {\n",
              "        vertical-align: top;\n",
              "    }\n",
              "\n",
              "    .dataframe thead th {\n",
              "        text-align: right;\n",
              "    }\n",
              "</style>\n",
              "<table border=\"1\" class=\"dataframe\">\n",
              "  <thead>\n",
              "    <tr style=\"text-align: right;\">\n",
              "      <th></th>\n",
              "      <th>0</th>\n",
              "    </tr>\n",
              "  </thead>\n",
              "  <tbody>\n",
              "    <tr>\n",
              "      <th>emp_id</th>\n",
              "      <td>0</td>\n",
              "    </tr>\n",
              "    <tr>\n",
              "      <th>gender</th>\n",
              "      <td>0</td>\n",
              "    </tr>\n",
              "    <tr>\n",
              "      <th>age</th>\n",
              "      <td>0</td>\n",
              "    </tr>\n",
              "    <tr>\n",
              "      <th>marital_status</th>\n",
              "      <td>0</td>\n",
              "    </tr>\n",
              "    <tr>\n",
              "      <th>job_level</th>\n",
              "      <td>0</td>\n",
              "    </tr>\n",
              "    <tr>\n",
              "      <th>experience</th>\n",
              "      <td>0</td>\n",
              "    </tr>\n",
              "    <tr>\n",
              "      <th>dept</th>\n",
              "      <td>0</td>\n",
              "    </tr>\n",
              "    <tr>\n",
              "      <th>emp_type</th>\n",
              "      <td>0</td>\n",
              "    </tr>\n",
              "    <tr>\n",
              "      <th>wlb</th>\n",
              "      <td>0</td>\n",
              "    </tr>\n",
              "    <tr>\n",
              "      <th>work_env</th>\n",
              "      <td>0</td>\n",
              "    </tr>\n",
              "    <tr>\n",
              "      <th>physical_activity_hours</th>\n",
              "      <td>0</td>\n",
              "    </tr>\n",
              "    <tr>\n",
              "      <th>workload</th>\n",
              "      <td>0</td>\n",
              "    </tr>\n",
              "    <tr>\n",
              "      <th>stress</th>\n",
              "      <td>0</td>\n",
              "    </tr>\n",
              "    <tr>\n",
              "      <th>sleep_hours</th>\n",
              "      <td>0</td>\n",
              "    </tr>\n",
              "    <tr>\n",
              "      <th>commute_mode</th>\n",
              "      <td>0</td>\n",
              "    </tr>\n",
              "    <tr>\n",
              "      <th>commute_distance</th>\n",
              "      <td>0</td>\n",
              "    </tr>\n",
              "    <tr>\n",
              "      <th>num_companies</th>\n",
              "      <td>0</td>\n",
              "    </tr>\n",
              "    <tr>\n",
              "      <th>team_size</th>\n",
              "      <td>0</td>\n",
              "    </tr>\n",
              "    <tr>\n",
              "      <th>num_reports</th>\n",
              "      <td>0</td>\n",
              "    </tr>\n",
              "    <tr>\n",
              "      <th>edu_level</th>\n",
              "      <td>0</td>\n",
              "    </tr>\n",
              "    <tr>\n",
              "      <th>have_ot</th>\n",
              "      <td>0</td>\n",
              "    </tr>\n",
              "    <tr>\n",
              "      <th>training_hours_per_year</th>\n",
              "      <td>0</td>\n",
              "    </tr>\n",
              "    <tr>\n",
              "      <th>job_satisfaction</th>\n",
              "      <td>0</td>\n",
              "    </tr>\n",
              "  </tbody>\n",
              "</table>\n",
              "</div><br><label><b>dtype:</b> int64</label>"
            ]
          },
          "metadata": {},
          "execution_count": 12
        }
      ]
    },
    {
      "cell_type": "code",
      "source": [
        "#duplicate\n",
        "df.duplicated().sum()"
      ],
      "metadata": {
        "colab": {
          "base_uri": "https://localhost:8080/"
        },
        "id": "YgLT_d5tkAWL",
        "outputId": "d2b811c3-b40d-497a-8abe-c7aca10eb5c6"
      },
      "execution_count": null,
      "outputs": [
        {
          "output_type": "execute_result",
          "data": {
            "text/plain": [
              "np.int64(0)"
            ]
          },
          "metadata": {},
          "execution_count": 13
        }
      ]
    },
    {
      "cell_type": "code",
      "source": [
        "#duplicate\n",
        "len(df.drop_duplicates())/len(df)"
      ],
      "metadata": {
        "colab": {
          "base_uri": "https://localhost:8080/"
        },
        "id": "sUQooGS4lA5A",
        "outputId": "7752c01d-621d-4ab4-a7d6-ca98f185404e"
      },
      "execution_count": null,
      "outputs": [
        {
          "output_type": "execute_result",
          "data": {
            "text/plain": [
              "1.0"
            ]
          },
          "metadata": {},
          "execution_count": 15
        }
      ]
    },
    {
      "cell_type": "code",
      "source": [
        "#outlier\n",
        "numeric_cols = df.select_dtypes(include=np.number).columns\n",
        "\n",
        "for col in numeric_cols:\n",
        "  Q1 = df[col].quantile(0.25)\n",
        "  Q3 = df[col].quantile(0.75)\n",
        "  IQR = Q3 - Q1\n",
        "  lower_bound = Q1 - 1.5 * IQR\n",
        "  upper_bound = Q3 + 1.5 * IQR\n",
        "\n",
        "  outliers = df[(df[col] < lower_bound) | (df[col] > upper_bound)]\n",
        "  outlier_count = len(outliers)\n",
        "  outlier_percentage = outlier_count / len(df) * 100\n",
        "  print(f\"Outliers in {col}: {outlier_count} ({outlier_percentage:.2f}%)\")"
      ],
      "metadata": {
        "colab": {
          "base_uri": "https://localhost:8080/"
        },
        "id": "nU0B8npVlA0t",
        "outputId": "e64a7836-7b6c-4019-96cc-cc9d58ad22f7"
      },
      "execution_count": null,
      "outputs": [
        {
          "output_type": "stream",
          "name": "stdout",
          "text": [
            "Outliers in emp_id: 0 (0.00%)\n",
            "Outliers in age: 0 (0.00%)\n",
            "Outliers in experience: 0 (0.00%)\n",
            "Outliers in wlb: 0 (0.00%)\n",
            "Outliers in work_env: 0 (0.00%)\n",
            "Outliers in physical_activity_hours: 6 (0.22%)\n",
            "Outliers in workload: 0 (0.00%)\n",
            "Outliers in stress: 232 (8.39%)\n",
            "Outliers in sleep_hours: 13 (0.47%)\n",
            "Outliers in commute_distance: 0 (0.00%)\n",
            "Outliers in num_companies: 0 (0.00%)\n",
            "Outliers in team_size: 0 (0.00%)\n",
            "Outliers in num_reports: 0 (0.00%)\n",
            "Outliers in training_hours_per_year: 0 (0.00%)\n",
            "Outliers in job_satisfaction: 388 (14.03%)\n"
          ]
        }
      ]
    },
    {
      "cell_type": "markdown",
      "source": [
        "# 3. Exploratory Data Analysis"
      ],
      "metadata": {
        "id": "tDXTOMian_RD"
      }
    },
    {
      "cell_type": "markdown",
      "source": [
        "## 1. Distribusi Job Satisfaction secara keseluruhan"
      ],
      "metadata": {
        "id": "Zfzlzjq9ovTq"
      }
    },
    {
      "cell_type": "code",
      "source": [
        "plt.figure(figsize=(6,4))\n",
        "sns.countplot(data=df, x='job_satisfaction', palette='viridis')\n",
        "\n",
        "#show label\n",
        "for p in plt.gca().patches:\n",
        "  plt.gca().annotate(f'{p.get_height()}', (p.get_x() + p.get_width() / 2., p.get_height()),\n",
        "                      ha='center', va='center', xytext=(0, 5), textcoords='offset points')\n",
        "\n",
        "plt.title('Distribusi Job Satisfaction')\n",
        "plt.xlabel('Job Satisfaction Rating')\n",
        "plt.ylabel('Jumlah Karyawan')\n",
        "plt.show()"
      ],
      "metadata": {
        "colab": {
          "base_uri": "https://localhost:8080/",
          "height": 504
        },
        "id": "_JOQ5uxnlAxz",
        "outputId": "73bca517-d168-420f-f558-f64104f85861"
      },
      "execution_count": null,
      "outputs": [
        {
          "output_type": "stream",
          "name": "stderr",
          "text": [
            "/tmp/ipython-input-19-2714170234.py:2: FutureWarning: \n",
            "\n",
            "Passing `palette` without assigning `hue` is deprecated and will be removed in v0.14.0. Assign the `x` variable to `hue` and set `legend=False` for the same effect.\n",
            "\n",
            "  sns.countplot(data=df, x='job_satisfaction', palette='viridis')\n"
          ]
        },
        {
          "output_type": "display_data",
          "data": {
            "text/plain": [
              "<Figure size 600x400 with 1 Axes>"
            ],
            "image/png": "[encoded data removed]"
          },
          "metadata": {}
        }
      ]
    },
    {
      "cell_type": "markdown",
      "source": [
        "- Sebagian besar karyawan memberikan rating 4 terhadap kepuasan kerja mereka (40.7% dari total).\n",
        "\n",
        "- Rating 5 juga cukup tinggi (17.3%), menunjukkan sebagian merasa sangat puas.\n",
        "\n",
        "- Sementara itu, rating rendah (1–2) cukup sedikit secara proporsi (~23%), namun tetap perlu perhatian sebagai sinyal ketidakpuasan."
      ],
      "metadata": {
        "id": "l4yKfEzrrbvi"
      }
    },
    {
      "cell_type": "markdown",
      "source": [
        "## 2. Job Satisfaction menurut Department"
      ],
      "metadata": {
        "id": "SSpkTpMdo-oF"
      }
    },
    {
      "cell_type": "code",
      "source": [
        "plt.figure(figsize=(10,5))\n",
        "sns.barplot(data=df, x='dept', y='job_satisfaction', palette='Set2')\n",
        "\n",
        "#show label\n",
        "for p in plt.gca().patches:\n",
        "  plt.gca().annotate(f'{p.get_height():.2f}', (p.get_x() + p.get_width() / 2., p.get_height()),\n",
        "                      ha='center', va='center', xytext=(0,5), textcoords='offset points')\n",
        "\n",
        "\n",
        "plt.title('Job Satisfaction berdasarkan Department')\n",
        "plt.xticks(rotation=45)\n",
        "plt.xlabel('Department')\n",
        "plt.ylabel('Job Satisfaction')\n",
        "plt.show()"
      ],
      "metadata": {
        "colab": {
          "base_uri": "https://localhost:8080/",
          "height": 664
        },
        "id": "0CpI0J0aoxdE",
        "outputId": "8bb22014-6ed2-42b2-9c9b-6f46cf600f45"
      },
      "execution_count": null,
      "outputs": [
        {
          "output_type": "stream",
          "name": "stderr",
          "text": [
            "/tmp/ipython-input-27-1888489997.py:2: FutureWarning: \n",
            "\n",
            "Passing `palette` without assigning `hue` is deprecated and will be removed in v0.14.0. Assign the `x` variable to `hue` and set `legend=False` for the same effect.\n",
            "\n",
            "  sns.barplot(data=df, x='dept', y='job_satisfaction', palette='Set2')\n"
          ]
        },
        {
          "output_type": "display_data",
          "data": {
            "text/plain": [
              "<Figure size 1000x500 with 1 Axes>"
            ],
            "image/png": "[encoded data removed]"
          },
          "metadata": {}
        }
      ]
    },
    {
      "cell_type": "markdown",
      "source": [
        "- Departemen IT memiliki rata-rata job satisfaction tertinggi (3.79), disusul oleh Operations (3.76) dan Legal (3.68).\n",
        "\n",
        "- HR (3.40) dan Finance (3.42) memiliki nilai rata-rata yang lebih rendah dibanding departemen lain.\n",
        "\n",
        "- Perbedaan antar departemen relatif kecil, tapi tetap bisa jadi sinyal kebutuhan intervensi lokal di unit tertentu."
      ],
      "metadata": {
        "id": "aSnakMyarosb"
      }
    },
    {
      "cell_type": "markdown",
      "source": [
        "## 3. job_level vs Job Satisfaction"
      ],
      "metadata": {
        "id": "hwArpuGwpW7Y"
      }
    },
    {
      "cell_type": "code",
      "source": [
        "plt.figure(figsize=(6,4))\n",
        "sns.barplot(data=df, x='job_level', y='job_satisfaction', palette='coolwarm')\n",
        "\n",
        "#show label\n",
        "for p in plt.gca().patches:\n",
        "  plt.gca().annotate(f'{p.get_height():.2f}', (p.get_x() + p.get_width() / 2., p.get_height()),\n",
        "                                               ha='center', va='center', xytext=(0,5), textcoords='offset points')\n",
        "\n",
        "\n",
        "plt.title('Job Level vs Job Satisfaction')\n",
        "plt.xlabel('Job Level')\n",
        "plt.ylabel('Job Satisfaction')\n",
        "plt.show()"
      ],
      "metadata": {
        "colab": {
          "base_uri": "https://localhost:8080/",
          "height": 410
        },
        "id": "EV15qMnXoxaO",
        "outputId": "1eb797e1-2534-446e-a48e-fa91edcf0309"
      },
      "execution_count": null,
      "outputs": [
        {
          "output_type": "display_data",
          "data": {
            "text/plain": [
              "<Figure size 600x400 with 1 Axes>"
            ],
            "image/png": "[encoded data removed]"
          },
          "metadata": {}
        }
      ]
    },
    {
      "cell_type": "markdown",
      "source": [
        "- Karyawan dengan job_level \"Mid\" cenderung memiliki kepuasan lebih tinggi (3.41) dibanding \"Intern/Fresher\" (3.16) dan \"Lead\" (3.11).\n",
        "\n",
        "- Ini menunjukkan keseimbangan job_level mungkin jadi kontributor penting terhadap kepuasan kerja, terutama bagi karyawan level menengah."
      ],
      "metadata": {
        "id": "EuDFhaVMrzGC"
      }
    },
    {
      "cell_type": "markdown",
      "source": [
        "## 4. Marital Status vs Job Satisfaction"
      ],
      "metadata": {
        "id": "LGiIVvKcqs93"
      }
    },
    {
      "cell_type": "code",
      "source": [
        "plt.figure(figsize=(6,4))\n",
        "sns.boxplot(data=df, x='marital_status', y='job_satisfaction', palette='pastel')\n",
        "\n",
        "plt.title('Marital Status vs Job Satisfaction')\n",
        "plt.xlabel('Marital Status')\n",
        "plt.ylabel('Job Satisfaction')\n",
        "plt.show()"
      ],
      "metadata": {
        "colab": {
          "base_uri": "https://localhost:8080/",
          "height": 410
        },
        "id": "DikX2GVtoxXa",
        "outputId": "8ac56955-561b-4429-d985-c9f7b4a7cc13"
      },
      "execution_count": null,
      "outputs": [
        {
          "output_type": "display_data",
          "data": {
            "text/plain": [
              "<Figure size 600x400 with 1 Axes>"
            ],
            "image/png": "[encoded data removed]"
          },
          "metadata": {}
        }
      ]
    },
    {
      "cell_type": "markdown",
      "source": [
        "- Secara umum, rata-rata job satisfaction antar status pernikahan relatif mirip.\n",
        "\n",
        "- Namun, karyawan Married cenderung memiliki sedikit kecenderungan lebih tinggi dalam tingkat kepuasan kerja dibanding Single dan Divorced.\n",
        "\n",
        "- Persebaran nilai juga relatif stabil di ketiga kelompok, tanpa outlier ekstrem yang dominan.\n",
        "\n",
        "- Hal ini menunjukkan bahwa status pernikahan bukan faktor utama, namun tetap bisa menjadi pertimbangan dalam memahami kebutuhan keseimbangan kerja."
      ],
      "metadata": {
        "id": "AHFWbDEMsuGi"
      }
    },
    {
      "cell_type": "markdown",
      "source": [
        "## 5. Employee Type vs Job Satisfaction"
      ],
      "metadata": {
        "id": "-wVIfpLzq_JV"
      }
    },
    {
      "cell_type": "code",
      "source": [
        "plt.figure(figsize=(6,4))\n",
        "sns.boxplot(data=df, x='emp_type', y='job_satisfaction', palette='muted')\n",
        "plt.title('Employee Type vs Job Satisfaction')\n",
        "plt.xlabel('Employee Type')\n",
        "plt.ylabel('Job Satisfaction')\n",
        "plt.show()"
      ],
      "metadata": {
        "colab": {
          "base_uri": "https://localhost:8080/",
          "height": 504
        },
        "id": "Y7BBwclwoxUp",
        "outputId": "aabb8b6e-8a46-43f9-949e-1268e4683aa6"
      },
      "execution_count": null,
      "outputs": [
        {
          "output_type": "stream",
          "name": "stderr",
          "text": [
            "/tmp/ipython-input-36-1551068174.py:2: FutureWarning: \n",
            "\n",
            "Passing `palette` without assigning `hue` is deprecated and will be removed in v0.14.0. Assign the `x` variable to `hue` and set `legend=False` for the same effect.\n",
            "\n",
            "  sns.boxplot(data=df, x='emp_type', y='job_satisfaction', palette='muted')\n"
          ]
        },
        {
          "output_type": "display_data",
          "data": {
            "text/plain": [
              "<Figure size 600x400 with 1 Axes>"
            ],
            "image/png": "[encoded data removed]"
          },
          "metadata": {}
        }
      ]
    },
    {
      "cell_type": "markdown",
      "source": [
        "- Rata-rata job satisfaction mirip di antara ketiga tipe kerja (Full-Time, Contract, Part-Time), namun:\n",
        "\n",
        "  - Contract employees menunjukkan variasi distribusi lebih lebar (terlihat dari boxplot).\n",
        "\n",
        "- Ini bisa menunjukkan ketidakpastian atau perbedaan pengalaman antar pekerja kontrak."
      ],
      "metadata": {
        "id": "pUTwJiics1Cq"
      }
    },
    {
      "cell_type": "code",
      "source": [],
      "metadata": {
        "id": "7a09qWuToxRz"
      },
      "execution_count": null,
      "outputs": []
    },
    {
      "cell_type": "code",
      "source": [],
      "metadata": {
        "id": "WekHT2jcoxPA"
      },
      "execution_count": null,
      "outputs": []
    },
    {
      "cell_type": "code",
      "source": [],
      "metadata": {
        "id": "DOnNn-MjoxMG"
      },
      "execution_count": null,
      "outputs": []
    }
  ]
}